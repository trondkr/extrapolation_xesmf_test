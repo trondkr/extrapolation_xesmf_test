{
 "cells": [
  {
   "cell_type": "code",
   "execution_count": null,
   "metadata": {
    "collapsed": true
   },
   "outputs": [],
   "source": [
    "import scipy\n",
    "import xarray as xr\n",
    "import numpy as np\n",
    "from netCDF4 import Dataset\n",
    "import os, shutil\n",
    "from typing import List\n",
    "import xesmf as xe"
   ]
  },
  {
   "cell_type": "markdown",
   "source": [
    "Define some helper functions for creating masks.\n",
    "Generate the required output file based on a default temperature file.\n",
    "The input grid for oxygen is 1/4 degrees while the output grid is 1/12th degrees."
   ],
   "metadata": {
    "collapsed": false,
    "pycharm": {
     "name": "#%% md\n"
    }
   }
  },
  {
   "cell_type": "code",
   "execution_count": null,
   "outputs": [],
   "source": [
    "def convert_CF_compliant_file_to_output_file(dst_grd_file, var_name=\"o2\"):\n",
    "    out_file=\"climatology_glorys12v1_{}.nc\".format(var_name)\n",
    "    print(\"Output climatology file will be named {}\".format(out_file))\n",
    "    if os.path.exists(out_file): os.remove(out_file)\n",
    "    shutil.copy2(dst_grd_file, out_file)\n",
    "    dst_ds = Dataset(out_file, \"r+\")\n",
    "\n",
    "    dst_ds.renameVariable(\"thetao\", var_name)\n",
    "\n",
    "    dst_ds[var_name].long_name = \"Dissolved Oxygen\"\n",
    "    dst_ds[var_name].standard_name=\"oxygen\"\n",
    "    dst_ds[var_name].units=\"ml/l\"\n",
    "    dst_ds[var_name].unit_long=\"Dissolved Oxygen\"\n",
    "    dst_ds.close()\n",
    "    return out_file\n",
    "\n",
    "def _create_mask(ds:xr.Dataset, threshold):\n",
    "\n",
    "    \"\"\" creates a SCRIP-compatible mask DataArray made of 0 (masked) and 1 (unmasked)\n",
    "\n",
    "    ds : xr.Dataset()\n",
    "\n",
    "    mask_in, mask_out: dict\n",
    "      dict{variable: tuple(threshold, direction)}\n",
    "      direction is either \"smaller\", \"equal\", \"greater\"\n",
    "      NaNs will always be masked. If this is the only thing to mask, use np.nan as the threshold\n",
    "      example: {\"sftlf\": (0, \"equal\")}\n",
    "\n",
    "    :return mask : xr.DataArray()\n",
    "    \"\"\"\n",
    "\n",
    "    v = list(threshold.keys())[0]\n",
    "    t = threshold[v]\n",
    "\n",
    "    if \"time\" in ds:\n",
    "        ds = ds.isel(time=0)\n",
    "\n",
    "    if t[1] in [\"equal\"]:\n",
    "        mask = xr.where((xr.ufuncs.isnan(ds[v])) | (ds[v] == t[0]), 0, 1)\n",
    "    elif t[1] in [\"smaller\"]:\n",
    "        mask = xr.where((xr.ufuncs.isnan(ds[v])) | (ds[v] <= t[0]), 0, 1)\n",
    "    elif t[1] in [\"greater\"]:\n",
    "        mask = xr.where((xr.ufuncs.isnan(ds[v])) | (ds[v] >= t[0]), 0, 1)\n",
    "    else:\n",
    "        logging.error(t[1] + \" not recognized.\")\n",
    "        raise ValueError\n",
    "\n",
    "    return mask\n",
    "\n",
    "def add_matrix_nans(r):\n",
    "    \"\"\"Deal with wrong boundary\"\"\"\n",
    "    X = r.weights\n",
    "    M = scipy.sparse.csr_matrix(X)\n",
    "    num_nonzeros = np.diff(M.indptr)\n",
    "    M[num_nonzeros == 0, 0] = np.NaN\n",
    "    r.weights = scipy.sparse.coo_matrix(M)\n",
    "\n",
    "    return r"
   ],
   "metadata": {
    "collapsed": false,
    "pycharm": {
     "name": "#%%\n"
    }
   }
  },
  {
   "cell_type": "markdown",
   "source": [
    "Read the source and destination grids and create datasets.\n",
    "Convert the longitudes from -180-180 to 0-360 (required by xesmf and esmf)\n",
    "Convert the coordinates names to lon and lat as required by xesmf"
   ],
   "metadata": {
    "collapsed": false
   }
  },
  {
   "cell_type": "code",
   "execution_count": null,
   "outputs": [],
   "source": [
    "src_grd_file=\"src_grid.nc\"\n",
    "dst_grd_file=\"dst_grid.nc\"\n",
    "\n",
    "out_file = convert_CF_compliant_file_to_output_file(dst_grd_file, var_name=\"o2\")\n",
    "\n",
    "climatology_src_ds = xr.open_dataset(src_grd_file)\n",
    "climatology_src_ds_360 = climatology_src_ds.assign_coords(longitude=(((climatology_src_ds.longitude + 180) % 360) + 180)).sortby(\"longitude\")\n",
    "climatology_src_ds_360_trans = climatology_src_ds_360.transpose('time', 'depth', 'latitude', 'longitude')\n",
    "src_ds=climatology_src_ds_360_trans.rename({\"longitude\":\"lon\",\"latitude\":\"lat\"})\n",
    "\n",
    "climatology_dst_ds = xr.open_dataset(out_file)\n",
    "climatology_dst_ds_360 = climatology_dst_ds.assign_coords(longitude=(((climatology_dst_ds.longitude + 180) % 360) + 180)).sortby(\"longitude\")\n",
    "climatology_dst_ds_360_trans = climatology_dst_ds_360.transpose('time', 'depth', 'latitude', 'longitude')\n",
    "dst_ds=climatology_dst_ds_360_trans.rename({\"longitude\":\"lon\",\"latitude\":\"lat\"})\n",
    "\n",
    "regridder = xe.Regridder(src_ds, dst_ds, 'bilinear', extrap='inverse_dist', extrap_num_pnts=3, extrap_exp=10)\n",
    "regridder = add_matrix_nans(regridder)\n",
    "\n",
    "# prepare the masks\n",
    "src_ds[\"mask\"] = _create_mask(src_ds, {\"o2\": (np.nan, \"equal\")})\n",
    "dst_ds[\"mask\"] = _create_mask(dst_ds, {\"o2\": (np.nan, \"equal\")})\n",
    "\n",
    "da_out = regridder(src_ds[\"o2\"], keep_attrs=True).to_dataset()\n",
    "da_out.to_netcdf(\"test2.nc\")\n",
    "print(\"Finished interpolating and extrapolating\")\n",
    "\n"
   ],
   "metadata": {
    "collapsed": false,
    "pycharm": {
     "name": "#%%\n"
    }
   }
  }
 ],
 "metadata": {
  "kernelspec": {
   "display_name": "Python 3",
   "language": "python",
   "name": "python3"
  },
  "language_info": {
   "codemirror_mode": {
    "name": "ipython",
    "version": 2
   },
   "file_extension": ".py",
   "mimetype": "text/x-python",
   "name": "python",
   "nbconvert_exporter": "python",
   "pygments_lexer": "ipython2",
   "version": "2.7.6"
  }
 },
 "nbformat": 4,
 "nbformat_minor": 0
}